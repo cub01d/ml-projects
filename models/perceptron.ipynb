{
  "nbformat": 4,
  "nbformat_minor": 0,
  "metadata": {
    "colab": {
      "name": "perceptron.ipynb",
      "version": "0.3.2",
      "views": {},
      "default_view": {},
      "provenance": [],
      "collapsed_sections": []
    },
    "kernelspec": {
      "name": "python3",
      "display_name": "Python 3"
    },
    "accelerator": "GPU"
  },
  "cells": [
    {
      "metadata": {
        "id": "tSIhX7t1FiO-",
        "colab_type": "text"
      },
      "cell_type": "markdown",
      "source": [
        "## Perceptron class\n",
        "TODO:\n",
        "- add in plotting graphs with matplotlib?\n",
        "- OOP: generate training/testing data outside of the class, and pass it in as a param"
      ]
    },
    {
      "metadata": {
        "id": "F7s0ZWh8Cbqa",
        "colab_type": "code",
        "colab": {
          "autoexec": {
            "startup": false,
            "wait_interval": 0
          }
        }
      },
      "cell_type": "code",
      "source": [
        "# load libraries\n",
        "import numpy as np\n",
        "\n",
        "\n",
        "# define our perceptron class\n",
        "class Perceptron:\n",
        "    def __init__(self):\n",
        "        # choose random line\n",
        "        a = np.random.uniform(-1, 1, 2)\n",
        "        b = np.random.uniform(-1, 1, 2)\n",
        "\n",
        "        # normal vector for target function weights\n",
        "        dy = b[1] - a[1]\n",
        "        dx = b[0] - a[0]\n",
        "        self.f = np.array([[-dy, dx]]).reshape(2, 1)\n",
        "\n",
        "        # fT dot a = t, where a is a point on line\n",
        "        t = np.dot(self.f.T, a)[0]\n",
        "        self.f = np.insert(self.f, 2, t, axis=0)\n",
        "        \n",
        "        # now we have the target function!\n",
        "    \n",
        "    def train(self, N):\n",
        "        # generate training data\n",
        "        X = np.random.uniform(-1, 1, (2, N))\n",
        "        # insert x0=1 at the end to simplify threshold\n",
        "        XX = np.insert(X, 2, 1, axis=0)\n",
        "        assert(XX.shape == (3, N))\n",
        "\n",
        "        # label training data\n",
        "        y = np.sign(np.dot(self.f.T, XX))[0]\n",
        "        \n",
        "        # perceptron learning algorithm\n",
        "        self.w = np.zeros([3,1])\n",
        "        yhat = np.sign(np.dot(self.w.T, XX))\n",
        "\n",
        "        # misclassified point indexes\n",
        "        m = np.where(y != yhat)[1]\n",
        "        \n",
        "        i = 0\n",
        "        while True:\n",
        "            i += 1\n",
        "\n",
        "            # break if converged\n",
        "            if len(m) == 0:\n",
        "                break\n",
        "\n",
        "            # not converged: pick random misclassified point\n",
        "            r = np.random.randint(0, len(m))\n",
        "            index = m[r]\n",
        "            point = XX.T[index].reshape(3,1)\n",
        "\n",
        "            # update weight vector\n",
        "            self.w = self.w + y[index]*point\n",
        "\n",
        "            # update yhat\n",
        "            yhat = np.sign(np.dot(self.w.T, XX))\n",
        "\n",
        "            # update misclassified points\n",
        "            m = np.where(y != yhat)[1]\n",
        "        \n",
        "        return i\n",
        "        \n",
        "    def test(self, n=5000):\n",
        "        # generate n test data points in test data set\n",
        "        points = np.random.uniform(-1, 1, (2, n))\n",
        "        points = np.insert(points, 2, 1, axis=0)\n",
        "        labels = np.sign(np.dot(self.f.T, points))\n",
        "        \n",
        "        yhat = np.sign(np.dot(self.w.T, points))\n",
        "        error = np.where(yhat != labels)[0].size\n",
        "        \n",
        "        return error/n\n",
        "    "
      ],
      "execution_count": 0,
      "outputs": []
    },
    {
      "metadata": {
        "id": "tX4OEL_5K-hc",
        "colab_type": "code",
        "colab": {
          "autoexec": {
            "startup": false,
            "wait_interval": 0
          },
          "base_uri": "https://localhost:8080/",
          "height": 350
        },
        "outputId": "9be02e7a-1851-4b54-e0cc-38a30e035b76",
        "executionInfo": {
          "status": "error",
          "timestamp": 1525989850205,
          "user_tz": 420,
          "elapsed": 864,
          "user": {
            "displayName": "Kenneth Chan",
            "photoUrl": "//lh6.googleusercontent.com/-kI4sxHOFmgI/AAAAAAAAAAI/AAAAAAAAC_Y/vKE193zvtd4/s50-c-k-no/photo.jpg",
            "userId": "116926585693789070310"
          }
        }
      },
      "cell_type": "code",
      "source": [
        "numtrials = 1000\n",
        "N = 10\n",
        "iterations = 0\n",
        "errors = 0\n",
        "\n",
        "for i in range(numtrials):\n",
        "    # create a new perceptron\n",
        "    p = Perceptron()\n",
        "    iterations += p.train(N)\n",
        "    errors += p.test()\n",
        "    \n",
        "print(\"avg # of iterations:\", iterations/numtrials)\n",
        "print(\"avg probability:\", errors/numtrials)\n"
      ],
      "execution_count": 4,
      "outputs": [
        {
          "output_type": "error",
          "ename": "ValueError",
          "evalue": "ignored",
          "traceback": [
            "\u001b[0;31m---------------------------------------------------------------------------\u001b[0m",
            "\u001b[0;31mValueError\u001b[0m                                Traceback (most recent call last)",
            "\u001b[0;32m<ipython-input-4-f6aebcc5a8ef>\u001b[0m in \u001b[0;36m<module>\u001b[0;34m()\u001b[0m\n\u001b[1;32m      6\u001b[0m \u001b[0;32mfor\u001b[0m \u001b[0mi\u001b[0m \u001b[0;32min\u001b[0m \u001b[0mrange\u001b[0m\u001b[0;34m(\u001b[0m\u001b[0mnumtrials\u001b[0m\u001b[0;34m)\u001b[0m\u001b[0;34m:\u001b[0m\u001b[0;34m\u001b[0m\u001b[0m\n\u001b[1;32m      7\u001b[0m     \u001b[0;31m# create a new perceptron\u001b[0m\u001b[0;34m\u001b[0m\u001b[0;34m\u001b[0m\u001b[0m\n\u001b[0;32m----> 8\u001b[0;31m     \u001b[0mp\u001b[0m \u001b[0;34m=\u001b[0m \u001b[0mPerceptron\u001b[0m\u001b[0;34m(\u001b[0m\u001b[0;34m)\u001b[0m\u001b[0;34m\u001b[0m\u001b[0m\n\u001b[0m\u001b[1;32m      9\u001b[0m     \u001b[0miterations\u001b[0m \u001b[0;34m+=\u001b[0m \u001b[0mp\u001b[0m\u001b[0;34m.\u001b[0m\u001b[0mtrain\u001b[0m\u001b[0;34m(\u001b[0m\u001b[0mN\u001b[0m\u001b[0;34m)\u001b[0m\u001b[0;34m\u001b[0m\u001b[0m\n\u001b[1;32m     10\u001b[0m     \u001b[0merrors\u001b[0m \u001b[0;34m+=\u001b[0m \u001b[0mp\u001b[0m\u001b[0;34m.\u001b[0m\u001b[0mtest\u001b[0m\u001b[0;34m(\u001b[0m\u001b[0;34m)\u001b[0m\u001b[0;34m\u001b[0m\u001b[0m\n",
            "\u001b[0;32m<ipython-input-3-f940ee1b86e8>\u001b[0m in \u001b[0;36m__init__\u001b[0;34m(self)\u001b[0m\n\u001b[1;32m     15\u001b[0m \u001b[0;34m\u001b[0m\u001b[0m\n\u001b[1;32m     16\u001b[0m         \u001b[0;31m# fT dot a = t, where a is a point on line\u001b[0m\u001b[0;34m\u001b[0m\u001b[0;34m\u001b[0m\u001b[0m\n\u001b[0;32m---> 17\u001b[0;31m         \u001b[0mt\u001b[0m \u001b[0;34m=\u001b[0m \u001b[0mnp\u001b[0m\u001b[0;34m.\u001b[0m\u001b[0mdot\u001b[0m\u001b[0;34m(\u001b[0m\u001b[0mself\u001b[0m\u001b[0;34m.\u001b[0m\u001b[0mf\u001b[0m\u001b[0;34m,\u001b[0m \u001b[0ma\u001b[0m\u001b[0;34m)\u001b[0m\u001b[0;34m[\u001b[0m\u001b[0;36m0\u001b[0m\u001b[0;34m]\u001b[0m\u001b[0;34m\u001b[0m\u001b[0m\n\u001b[0m\u001b[1;32m     18\u001b[0m         \u001b[0mself\u001b[0m\u001b[0;34m.\u001b[0m\u001b[0mf\u001b[0m \u001b[0;34m=\u001b[0m \u001b[0mnp\u001b[0m\u001b[0;34m.\u001b[0m\u001b[0minsert\u001b[0m\u001b[0;34m(\u001b[0m\u001b[0mself\u001b[0m\u001b[0;34m.\u001b[0m\u001b[0mf\u001b[0m\u001b[0;34m,\u001b[0m \u001b[0;36m2\u001b[0m\u001b[0;34m,\u001b[0m \u001b[0mt\u001b[0m\u001b[0;34m,\u001b[0m \u001b[0maxis\u001b[0m\u001b[0;34m=\u001b[0m\u001b[0;36m0\u001b[0m\u001b[0;34m)\u001b[0m\u001b[0;34m\u001b[0m\u001b[0m\n\u001b[1;32m     19\u001b[0m \u001b[0;34m\u001b[0m\u001b[0m\n",
            "\u001b[0;31mValueError\u001b[0m: shapes (2,1) and (2,) not aligned: 1 (dim 1) != 2 (dim 0)"
          ]
        }
      ]
    },
    {
      "metadata": {
        "id": "bbA0iHdyByTp",
        "colab_type": "text"
      },
      "cell_type": "markdown",
      "source": [
        "### Thursday 4/19 code below\n",
        "- fixed bug on line 32\n",
        "- forgot the threshold"
      ]
    },
    {
      "metadata": {
        "id": "DB3C8qtUx1zi",
        "colab_type": "code",
        "colab": {
          "autoexec": {
            "startup": false,
            "wait_interval": 0
          },
          "base_uri": "https://localhost:8080/",
          "height": 51
        },
        "outputId": "5780dcef-252b-41cc-caa7-efbe09e276ca",
        "executionInfo": {
          "status": "ok",
          "timestamp": 1524610611411,
          "user_tz": 420,
          "elapsed": 972,
          "user": {
            "displayName": "Kenneth Chan",
            "photoUrl": "//lh6.googleusercontent.com/-kI4sxHOFmgI/AAAAAAAAAAI/AAAAAAAAC_Y/vKE193zvtd4/s50-c-k-no/photo.jpg",
            "userId": "116926585693789070310"
          }
        }
      },
      "cell_type": "code",
      "source": [
        "# load libraries\n",
        "import numpy as np\n",
        "\n",
        "\n",
        "numtrials = 1000\n",
        "errors = 0\n",
        "iter_total = 0\n",
        "\n",
        "for trial in range(numtrials):\n",
        "    # choose random line\n",
        "    a = np.random.uniform(-1, 1, 2)\n",
        "    b = np.random.uniform(-1, 1, 2)\n",
        "\n",
        "    # normal vector for target function weights\n",
        "    dy = b[1] - a[1]\n",
        "    dx = b[0] - a[0]\n",
        "\n",
        "    # f dot a = t, where a is a point on the dividing line\n",
        "    f = np.array([[-dy, dx]]).reshape(2,1)\n",
        "    t = np.dot(f.T,a)[0]\n",
        "\n",
        "    # now we have the target function!\n",
        "\n",
        "    # number of data points\n",
        "    N = 10\n",
        "\n",
        "    X = np.random.uniform(-1, 1, (2, N))\n",
        "    # insert x0 to simplify threshold\n",
        "    XX = np.insert(X, 0 , 1, axis=0)\n",
        "\n",
        "    # apply target function to input as label\n",
        "    y = np.sign(np.dot(f.T,X) - t)[0]\n",
        "\n",
        "    # perceptron learning algorithm\n",
        "    w = np.zeros([3,1])\n",
        "    i = 0\n",
        "\n",
        "    yhat = np.sign(np.dot(w.T, XX))\n",
        "\n",
        "    # misclassified point indexes\n",
        "    m = np.where(y != yhat)[1]\n",
        "\n",
        "    while True:\n",
        "        i += 1\n",
        "\n",
        "        # break if converged\n",
        "        if len(m) == 0:\n",
        "            break\n",
        "\n",
        "        # not converged: pick random misclassified point\n",
        "        r = np.random.randint(0, len(m))\n",
        "        index = m[r]\n",
        "        point = XX.T[index].reshape(3,1)\n",
        "\n",
        "        # update weight vector\n",
        "        w = w + y[index]*point\n",
        "\n",
        "        # update yhat\n",
        "        yhat = np.sign(np.dot(w.T, XX))\n",
        "\n",
        "        # update misclassified points\n",
        "        m = np.where(y != yhat)[1]\n",
        "\n",
        "\n",
        "    # converged perceptron\n",
        "    iter_total += i\n",
        "\n",
        "    # test data\n",
        "    numpoints = 1000\n",
        "    test_points = np.random.uniform(-1, 1, (2, numpoints))\n",
        "    y_test = np.sign(np.dot(f.T, test_points))\n",
        "    yhat_test = np.sign(np.dot(w[1:].T, test_points))\n",
        "    error = np.where(yhat_test != y_test)[0].size\n",
        "    errors += error/numpoints\n",
        " \n",
        " \n",
        "print(\"avg # of iterations:\", iter_total/numtrials)\n",
        "print(\"avg probability:\", errors/numtrials)"
      ],
      "execution_count": 17,
      "outputs": [
        {
          "output_type": "stream",
          "text": [
            "avg # of iterations: 10.332\n",
            "avg probability: 0.11618700000000026\n"
          ],
          "name": "stdout"
        }
      ]
    }
  ]
}
