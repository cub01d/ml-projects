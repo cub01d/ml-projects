{
 "cells": [
  {
   "cell_type": "markdown",
   "metadata": {},
   "source": [
    "<img src=\"data:image/png;base64,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\">\n",
    "<img src=\"https://static1.squarespace.com/static/58dc1a1ee4fcb51cbb80a096/t/58ebf4a0f7e0abb89e582c80/1521491055921/?format=1500w\">\n",
    "\n",
    "![No Guns](images/no-guns.png)\n",
    "\n",
    "<!-- Move the Accel AI logo to the right of the Ask logo, place the no guns image in the middle -->\n",
    "\n",
    "<a rel=\"license\" href=\"http://creativecommons.org/licenses/by-nc-sa/4.0/\"><img alt=\"Creative Commons License\" style=\"border-width:0\" src=\"https://i.creativecommons.org/l/by-nc-sa/4.0/88x31.png\" /></a><br />This work is licensed under a <a rel=\"license\" href=\"http://creativecommons.org/licenses/by-nc-sa/4.0/\">Creative Commons Attribution-NonCommercial-ShareAlike 4.0 International License</a>.\n",
    "\n",
    "# Taboo Igloo Challenge\n",
    "\n",
    "> As a website owner, you need to identify user queries about weapons so that you can protect your brand identity.\n",
    "\n",
    "In today's session we will:\n",
    "\n",
    "- Add textual features to real queries\n",
    "- Re-sample data as we have imbalanced classes\n",
    "- Train classification models\n",
    "- Compare and contrast model results\n",
    "\n",
    "**Disclaimer:** We are working with raw user text. We have attempted to remove offensive queries. However, we cannot guarentee that the data are free of offensive material."
   ]
  },
  {
   "cell_type": "markdown",
   "metadata": {},
   "source": [
    "## Installation\n",
    "\n",
    "Before we get started, we will need to install the notebook and third-party packages. There a few options for doing this.\n",
    "\n",
    "**Note:** We will need to load a word embedding model into spaCy. Since these are large files, spaCy distributes them separately from the core package. This file is in the dcoker image.\n",
    "\n",
    "### Docker\n",
    "\n",
    "[Docker images](https://docs.docker.com/) have the advantage of grouping the data and _all_ the underlying environment together. \n",
    "\n",
    "```sh\n",
    "docker run -p 8888:8888 andrewjstryker/taboo\n",
    "```\n",
    "\n",
    "### Conda virtual\n",
    "\n",
    "[Anaconda](https://www.anaconda.com/) provides a data science wrapper on top of Python (and other languages).\n",
    "\n",
    "```sh\n",
    "# get the code from GitHub\n",
    "git clone https://github.com/AskMediaGroup/TabooIglooChallenge.git\n",
    "cd tabooigloochallege\n",
    "\n",
    "# create and start a virtual environment\n",
    "conda create --name taboo python=3.6\n",
    "conda install --name taboo pip\n",
    "source activate taboo\n",
    "pip install -r requirements.txt\n",
    "python -m spacy download en_core_web_lg\n",
    "\n",
    "# start the notebook\n",
    "jupyter notebook taboo-igloo-challenge.ipynb\n",
    "```\n",
    "\n",
    "### Python virtual environment\n",
    "\n",
    "We will also want to run this code inside a Python [virtual environment](https://docs.python.org/3/library/venv.html). Virtual environments mitigate the problems of managing system-wide packages.\n",
    "\n",
    "```sh\n",
    "# get the code from GitHub\n",
    "git clone https://github.com/AskMediaGroup/TabooIglooChallenge.git\n",
    "cd tabooigloochallege\n",
    "\n",
    "# create and start a virtual environment\n",
    "python3 -m venv env\n",
    "source env/bin/activate\n",
    "\n",
    "# install the packages we need\n",
    "pip install -r requirements.txt\n",
    "python -m spacy download en_core_web_lg\n",
    "\n",
    "# start the notebook\n",
    "jupyter notebook taboo-igloo-challenge.ipynb\n",
    "```"
   ]
  },
  {
   "cell_type": "markdown",
   "metadata": {},
   "source": [
    "## Configuration\n",
    "\n",
    "We will use a several third-party Python packages in our analysis:\n",
    "\n",
    "- [**numpy**](https:http://www.numpy.org/): large array\n",
    "- [**pandas**](https://pandas.pydata.org/): data structures\n",
    "\n",
    "- [**scikit-learn**](http://scikit-learn.org/stable/index.html): data mining and analysis\n",
    "- [**imbalanced-learn**](http://contrib.scikit-learn.org/imbalanced-learn/stable/): support for working with imbalanced classes\n",
    "- [**spaCy**](https://spacy.io/): natural language processing\n",
    "\n",
    "- [**matplotlib**](https://matplotlib.org/): plotting library"
   ]
  },
  {
   "cell_type": "code",
   "execution_count": 3,
   "metadata": {},
   "outputs": [],
   "source": [
    "from itertools import islice\n",
    "\n",
    "import numpy as np\n",
    "import pandas as pd\n",
    "import sklearn as sk\n",
    "from sklearn.decomposition import PCA\n",
    "import imblearn\n",
    "import spacy\n",
    "\n",
    "import matplotlib.pyplot as plt"
   ]
  },
  {
   "cell_type": "markdown",
   "metadata": {},
   "source": [
    "Let's also get extra space for making inline plots -- this lets us place plots side by side."
   ]
  },
  {
   "cell_type": "code",
   "execution_count": 4,
   "metadata": {},
   "outputs": [
    {
     "name": "stdout",
     "output_type": "stream",
     "text": [
      "Populating the interactive namespace from numpy and matplotlib\n"
     ]
    }
   ],
   "source": [
    "%pylab inline\n",
    "pylab.rcParams['figure.figsize'] = (10,6)"
   ]
  },
  {
   "cell_type": "markdown",
   "metadata": {},
   "source": [
    "## Load\n",
    "\n",
    "Our data in the [JSON lines](http://jsonlines.org/) format. This format allows us to avoid some of the limitation of  comma separated value (CSV) files.\n",
    "\n",
    "```json\n",
    "[\" Patty Hearst photos\", false]\n",
    "[\"AK-47\", true]\n",
    "[\"parsley, sage, rosemary, thyme\", false]\n",
    "```\n",
    "\n",
    "We will use the Pandas [`read_json`](https://pandas.pydata.org/pandas-docs/stable/generated/pandas.read_json.html) method to read the file into a DataFrame. The argument `lines=True` instructs the parser to treat each line as a JSON object."
   ]
  },
  {
   "cell_type": "code",
   "execution_count": 5,
   "metadata": {},
   "outputs": [
    {
     "data": {
      "text/html": [
       "<div>\n",
       "<style scoped>\n",
       "    .dataframe tbody tr th:only-of-type {\n",
       "        vertical-align: middle;\n",
       "    }\n",
       "\n",
       "    .dataframe tbody tr th {\n",
       "        vertical-align: top;\n",
       "    }\n",
       "\n",
       "    .dataframe thead th {\n",
       "        text-align: right;\n",
       "    }\n",
       "</style>\n",
       "<table border=\"1\" class=\"dataframe\">\n",
       "  <thead>\n",
       "    <tr style=\"text-align: right;\">\n",
       "      <th></th>\n",
       "      <th>query</th>\n",
       "      <th>weapon</th>\n",
       "    </tr>\n",
       "  </thead>\n",
       "  <tbody>\n",
       "    <tr>\n",
       "      <th>0</th>\n",
       "      <td>polynesian totum poles</td>\n",
       "      <td>False</td>\n",
       "    </tr>\n",
       "    <tr>\n",
       "      <th>1</th>\n",
       "      <td>victorscott.co.uk</td>\n",
       "      <td>False</td>\n",
       "    </tr>\n",
       "    <tr>\n",
       "      <th>2</th>\n",
       "      <td>triumph bobber price</td>\n",
       "      <td>False</td>\n",
       "    </tr>\n",
       "    <tr>\n",
       "      <th>3</th>\n",
       "      <td>3921 N. R St Pensacola Fla</td>\n",
       "      <td>False</td>\n",
       "    </tr>\n",
       "    <tr>\n",
       "      <th>4</th>\n",
       "      <td>used truks in okc</td>\n",
       "      <td>False</td>\n",
       "    </tr>\n",
       "    <tr>\n",
       "      <th>5</th>\n",
       "      <td>clinical psycology</td>\n",
       "      <td>False</td>\n",
       "    </tr>\n",
       "    <tr>\n",
       "      <th>6</th>\n",
       "      <td>where is pavillion ohio shopping center</td>\n",
       "      <td>False</td>\n",
       "    </tr>\n",
       "    <tr>\n",
       "      <th>7</th>\n",
       "      <td>\"Add your comment\" \"Coppermine Photo Gallery\" ...</td>\n",
       "      <td>False</td>\n",
       "    </tr>\n",
       "    <tr>\n",
       "      <th>8</th>\n",
       "      <td>hotels for sale hot springs ar</td>\n",
       "      <td>False</td>\n",
       "    </tr>\n",
       "    <tr>\n",
       "      <th>9</th>\n",
       "      <td>2017 beretta 92a1 youtube</td>\n",
       "      <td>False</td>\n",
       "    </tr>\n",
       "    <tr>\n",
       "      <th>10</th>\n",
       "      <td>4199 mill pond dr highland hills oh</td>\n",
       "      <td>False</td>\n",
       "    </tr>\n",
       "    <tr>\n",
       "      <th>11</th>\n",
       "      <td>- Outside the North America its franchising is...</td>\n",
       "      <td>False</td>\n",
       "    </tr>\n",
       "    <tr>\n",
       "      <th>12</th>\n",
       "      <td>wildwood nj yearly rental</td>\n",
       "      <td>False</td>\n",
       "    </tr>\n",
       "    <tr>\n",
       "      <th>13</th>\n",
       "      <td>www.orrellauctions.com</td>\n",
       "      <td>False</td>\n",
       "    </tr>\n",
       "    <tr>\n",
       "      <th>14</th>\n",
       "      <td>99.95% pure molybdenum evaportion boats</td>\n",
       "      <td>False</td>\n",
       "    </tr>\n",
       "    <tr>\n",
       "      <th>15</th>\n",
       "      <td>\"prevê uma série de sanções que podem ser apli...</td>\n",
       "      <td>False</td>\n",
       "    </tr>\n",
       "    <tr>\n",
       "      <th>16</th>\n",
       "      <td>30 whole house fans</td>\n",
       "      <td>False</td>\n",
       "    </tr>\n",
       "    <tr>\n",
       "      <th>17</th>\n",
       "      <td>western michigan football recruiting questionaire</td>\n",
       "      <td>False</td>\n",
       "    </tr>\n",
       "    <tr>\n",
       "      <th>18</th>\n",
       "      <td>week ending formula in excel</td>\n",
       "      <td>False</td>\n",
       "    </tr>\n",
       "    <tr>\n",
       "      <th>19</th>\n",
       "      <td>what are typical behaviors for fort myers, fl</td>\n",
       "      <td>False</td>\n",
       "    </tr>\n",
       "  </tbody>\n",
       "</table>\n",
       "</div>"
      ],
      "text/plain": [
       "                                                query  weapon\n",
       "0                              polynesian totum poles   False\n",
       "1                                   victorscott.co.uk   False\n",
       "2                                triumph bobber price   False\n",
       "3                          3921 N. R St Pensacola Fla   False\n",
       "4                                   used truks in okc   False\n",
       "5                                clinical psycology     False\n",
       "6             where is pavillion ohio shopping center   False\n",
       "7   \"Add your comment\" \"Coppermine Photo Gallery\" ...   False\n",
       "8                      hotels for sale hot springs ar   False\n",
       "9                           2017 beretta 92a1 youtube   False\n",
       "10                4199 mill pond dr highland hills oh   False\n",
       "11  - Outside the North America its franchising is...   False\n",
       "12                          wildwood nj yearly rental   False\n",
       "13                             www.orrellauctions.com   False\n",
       "14            99.95% pure molybdenum evaportion boats   False\n",
       "15  \"prevê uma série de sanções que podem ser apli...   False\n",
       "16                                30 whole house fans   False\n",
       "17  western michigan football recruiting questionaire   False\n",
       "18                       week ending formula in excel   False\n",
       "19      what are typical behaviors for fort myers, fl   False"
      ]
     },
     "execution_count": 5,
     "metadata": {},
     "output_type": "execute_result"
    }
   ],
   "source": [
    "weapons = (pd.read_json(\"weapons-sample.jsonl\", lines=True) \n",
    "             .rename(columns={0: \"query\", 1: \"weapon\"}))\n",
    "weapons.head(20)"
   ]
  },
  {
   "cell_type": "markdown",
   "metadata": {},
   "source": [
    "Let's see how many observations we have in each class:"
   ]
  },
  {
   "cell_type": "code",
   "execution_count": 6,
   "metadata": {},
   "outputs": [
    {
     "data": {
      "text/plain": [
       "False    1079777\n",
       "True        4759\n",
       "Name: weapon, dtype: int64"
      ]
     },
     "execution_count": 6,
     "metadata": {},
     "output_type": "execute_result"
    }
   ],
   "source": [
    "weapons.weapon.value_counts()"
   ]
  },
  {
   "cell_type": "markdown",
   "metadata": {},
   "source": [
    "This confirms our suspicion that we have an imblanced class problem."
   ]
  },
  {
   "cell_type": "markdown",
   "metadata": {},
   "source": [
    "## Transform\n",
    "\n",
    "We will transform the data in the following ways:\n",
    "\n",
    "1. Reduce the problem size through re-sampling. We have over a million records since there are relatively few cases of the minority class. We will re-sample the data to reduce the problem size and balance the classes.\n",
    "\n",
    "2. Create textual features for each query. We will use a [word2vec](https://en.wikipedia.org/wiki/Word2vec) approach to create a [distributed representation](https://en.wikipedia.org/wiki/Artificial_neural_network#distributed_representation) for the queries. This transformation creates the features that we will use to predict whether a query is about weapons.\n",
    "\n",
    "3. Split the data into train and test sets so that we can use cross-validation to check our predictions.\n",
    "\n",
    "4. Re-sample to balance the classes. Classifiers typically do work not well with severely imbalanced classes, such as our data."
   ]
  },
  {
   "cell_type": "markdown",
   "metadata": {},
   "source": [
    "### Reduce the problem size\n",
    "\n",
    "Our first challenge is that computations on data of this size will take a long time. There are two feasible techniques to move forward:\n",
    "\n",
    "1. Move to a big data processing platform such as [Apache Spark](https://spark.apache.org).\n",
    "2. Down-sample the majority class.\n",
    "\n",
    "We will move forward with option 2 in this notebook and save the big processing solution for another time. Let's keep all the queries where `weapons` are `True` and take a 5% sample where `weapons` are `True`."
   ]
  },
  {
   "cell_type": "code",
   "execution_count": 7,
   "metadata": {
    "scrolled": true
   },
   "outputs": [
    {
     "name": "stdout",
     "output_type": "stream",
     "text": [
      "False    1079777\n",
      "True        4759\n",
      "Name: weapon, dtype: int64\n"
     ]
    },
    {
     "data": {
      "text/html": [
       "<div>\n",
       "<style scoped>\n",
       "    .dataframe tbody tr th:only-of-type {\n",
       "        vertical-align: middle;\n",
       "    }\n",
       "\n",
       "    .dataframe tbody tr th {\n",
       "        vertical-align: top;\n",
       "    }\n",
       "\n",
       "    .dataframe thead th {\n",
       "        text-align: right;\n",
       "    }\n",
       "</style>\n",
       "<table border=\"1\" class=\"dataframe\">\n",
       "  <thead>\n",
       "    <tr style=\"text-align: right;\">\n",
       "      <th></th>\n",
       "      <th>query</th>\n",
       "      <th>weapon</th>\n",
       "    </tr>\n",
       "  </thead>\n",
       "  <tbody>\n",
       "    <tr>\n",
       "      <th>76</th>\n",
       "      <td>Essay on Teachers Should NOT Carry Guns</td>\n",
       "      <td>True</td>\n",
       "    </tr>\n",
       "    <tr>\n",
       "      <th>1098</th>\n",
       "      <td>San Leandro bebe gun shooter CA</td>\n",
       "      <td>True</td>\n",
       "    </tr>\n",
       "    <tr>\n",
       "      <th>1156</th>\n",
       "      <td>ar15 in 6.8mm</td>\n",
       "      <td>True</td>\n",
       "    </tr>\n",
       "    <tr>\n",
       "      <th>1658</th>\n",
       "      <td>World Of Tanks YouTube</td>\n",
       "      <td>True</td>\n",
       "    </tr>\n",
       "    <tr>\n",
       "      <th>1680</th>\n",
       "      <td>gun charge snetencing</td>\n",
       "      <td>True</td>\n",
       "    </tr>\n",
       "    <tr>\n",
       "      <th>1084485</th>\n",
       "      <td>swansons vitamins foloc acid</td>\n",
       "      <td>False</td>\n",
       "    </tr>\n",
       "    <tr>\n",
       "      <th>1084502</th>\n",
       "      <td>michelle regan thornton co</td>\n",
       "      <td>False</td>\n",
       "    </tr>\n",
       "    <tr>\n",
       "      <th>1084504</th>\n",
       "      <td>mechanism of insulin resistance in acromegaly</td>\n",
       "      <td>False</td>\n",
       "    </tr>\n",
       "    <tr>\n",
       "      <th>1084530</th>\n",
       "      <td>stanch in the artheri</td>\n",
       "      <td>False</td>\n",
       "    </tr>\n",
       "    <tr>\n",
       "      <th>1084531</th>\n",
       "      <td>railroad car wheel bearings</td>\n",
       "      <td>False</td>\n",
       "    </tr>\n",
       "  </tbody>\n",
       "</table>\n",
       "</div>"
      ],
      "text/plain": [
       "                                                 query  weapon\n",
       "76             Essay on Teachers Should NOT Carry Guns    True\n",
       "1098                   San Leandro bebe gun shooter CA    True\n",
       "1156                                     ar15 in 6.8mm    True\n",
       "1658                            World Of Tanks YouTube    True\n",
       "1680                             gun charge snetencing    True\n",
       "1084485                   swansons vitamins foloc acid   False\n",
       "1084502                     michelle regan thornton co   False\n",
       "1084504  mechanism of insulin resistance in acromegaly   False\n",
       "1084530                          stanch in the artheri   False\n",
       "1084531                    railroad car wheel bearings   False"
      ]
     },
     "execution_count": 7,
     "metadata": {},
     "output_type": "execute_result"
    }
   ],
   "source": [
    "ran = np.random.rand(len(weapons))\n",
    "weapons_sample = pd.concat((weapons[weapons.weapon],\n",
    "                            weapons[(weapons.weapon == False) & (np.random.rand(len(weapons)) < 0.05)]))\n",
    "print(weapons.weapon.value_counts())\n",
    "pd.concat((weapons_sample.head(), weapons_sample.tail()))"
   ]
  },
  {
   "cell_type": "code",
   "execution_count": 8,
   "metadata": {},
   "outputs": [
    {
     "data": {
      "text/plain": [
       "False    53926\n",
       "True      4759\n",
       "Name: weapon, dtype: int64"
      ]
     },
     "execution_count": 8,
     "metadata": {},
     "output_type": "execute_result"
    }
   ],
   "source": [
    "weapons_sample.weapon.value_counts()"
   ]
  },
  {
   "cell_type": "markdown",
   "metadata": {},
   "source": [
    "### Generate textual features\n",
    "\n",
    "The idea of [word2vec](https://en.wikipedia.org/wiki/Word2vec) is that we can project words into a vector space. Word vectors with similar context and meaning are in close proximity. This transformation results in a vector for each query. We will use these vectors as the features in our model."
   ]
  },
  {
   "cell_type": "markdown",
   "metadata": {},
   "source": [
    "#### Create the pipeline\n",
    "\n",
    "[Natural-language processing](https://en.wikipedia.org/wiki/Natural-language_processing) packages, such as [spaCy](https://spacy.io), begin with building a pipeline. The pipeline contains the algorithms and data that we will apply to our text. The function `spacy.load()` builds an NLP pipeline from a model file. The [`en_core_web_lg`](https://spacy.io/models/en#en_core_web_lg) model file contains data from a web crawl of news, blogs, and comments."
   ]
  },
  {
   "cell_type": "code",
   "execution_count": 9,
   "metadata": {},
   "outputs": [],
   "source": [
    "nlp = spacy.load(\"en_core_web_lg\")"
   ]
  },
  {
   "cell_type": "markdown",
   "metadata": {},
   "source": [
    "#### Build the feature matrix\n",
    "\n",
    "The Scikit-learn classifying models takes Numpy arrays as its inputs. Thus, we need an array with one row for each query and one column for each word vector element. We also need to convert the dependent variable in to array. The call to [`nlp.pipe`](https://spacy.io/api/pipe#pipe) allows spaCy to run through all of our queries in parallel."
   ]
  },
  {
   "cell_type": "code",
   "execution_count": 10,
   "metadata": {},
   "outputs": [
    {
     "name": "stdout",
     "output_type": "stream",
     "text": [
      "(58685, 300)\n"
     ]
    }
   ],
   "source": [
    "X = np.zeros((len(weapons_sample), nlp.vocab.vectors_length), dtype=np.float32)\n",
    "y = np.array(weapons_sample['weapon'])\n",
    "\n",
    "print(X.shape)\n",
    "\n",
    "# parse all the all the queries in parallel\n",
    "for (i, doc) in enumerate(nlp.pipe((str(x) for x in weapons_sample['query']))):\n",
    "    # store each word vector as a row\n",
    "    X[i,] = doc.vector"
   ]
  },
  {
   "cell_type": "markdown",
   "metadata": {},
   "source": [
    "#### Visualize the results\n",
    "\n",
    "Let's take a look at this data so that we understand what we have. We will use [Principal Component Analysis](https://en.wikipedia.org/wiki/Principal_component_analysis) (PCA) to reduce our vector space to two dimensions that we can graph."
   ]
  },
  {
   "cell_type": "code",
   "execution_count": 11,
   "metadata": {},
   "outputs": [],
   "source": [
    "pca = PCA(n_components=2)\n",
    "X_vis = pca.fit_transform(X)"
   ]
  },
  {
   "cell_type": "markdown",
   "metadata": {},
   "source": [
    "Next, we define a helper function to capture the plotting logic. We will make several variations of the PCA scatter plot."
   ]
  },
  {
   "cell_type": "code",
   "execution_count": 12,
   "metadata": {},
   "outputs": [],
   "source": [
    "def splot(ax, X, y, title, labels=['Weapon', 'Clean'], alpha=0.3, samples=None,\n",
    "          xlim=[-5, 5], ylim=[-5, 5]):\n",
    "    if samples is not None and samples < len(X):\n",
    "        indx = np.random.choice(len(X), samples)\n",
    "        X = X[indx,]\n",
    "        y = y[indx]\n",
    "         \n",
    "    c_weapon = ax.scatter(X[y, 0], X[y, 1], label=labels[0], alpha=alpha)\n",
    "    c_clean = ax.scatter(X[y==False, 0], X[y==False, 1], label=labels[1], alpha=alpha)\n",
    "    ax.set_title(title)\n",
    "    \n",
    "    # make the plot look pretty\n",
    "    ax.spines['top'].set_visible(False)\n",
    "    ax.spines['right'].set_visible(False)\n",
    "    ax.get_xaxis().tick_bottom()\n",
    "    ax.get_yaxis().tick_left()\n",
    "    ax.spines['left'].set_position(('outward', 10))\n",
    "    ax.spines['bottom'].set_position(('outward', 10))\n",
    "    ax.set_autoscaley_on(False)\n",
    "    ax.set_xlim(xlim)\n",
    "    ax.set_ylim(ylim)\n",
    "    \n",
    "    return (c_weapon, c_clean)"
   ]
  },
  {
   "cell_type": "markdown",
   "metadata": {},
   "source": [
    "Now, we are ready to plot the results."
   ]
  },
  {
   "cell_type": "code",
   "execution_count": 13,
   "metadata": {},
   "outputs": [
    {
     "data": {
      "text/plain": [
       "(<matplotlib.collections.PathCollection at 0x7ff451419e48>,\n",
       " <matplotlib.collections.PathCollection at 0x7ff45120c1d0>)"
      ]
     },
     "execution_count": 13,
     "metadata": {},
     "output_type": "execute_result"
    },
    {
     "data": {
      "image/png": "[encoded data removed]",
      "text/plain": [
       "<Figure size 720x432 with 1 Axes>"
      ]
     },
     "metadata": {},
     "output_type": "display_data"
    }
   ],
   "source": [
    "f, ax = plt.subplots(1, 1)\n",
    "splot(ax, X_vis, y, \"Original Sample\", samples=1000)"
   ]
  },
  {
   "cell_type": "markdown",
   "metadata": {},
   "source": [
    "### Create training and testing sets\n",
    "\n",
    "We now group the data into a test and training sets. We split the data evenly since each set is equally import and we have enough observations."
   ]
  },
  {
   "cell_type": "code",
   "execution_count": 14,
   "metadata": {},
   "outputs": [],
   "source": [
    "from sklearn.model_selection import train_test_split\n",
    "\n",
    "X_train, X_test, y_train, y_test = train_test_split(X, y, test_size=0.5)"
   ]
  },
  {
   "cell_type": "markdown",
   "metadata": {},
   "source": [
    "We will use the training set for the rest of the model development. We use the testing set once we are ready to validate our results."
   ]
  },
  {
   "cell_type": "markdown",
   "metadata": {},
   "source": [
    "### Re-sample\n",
    "\n",
    "We want to resample our data so that we improve the balance between the minority and majority classes. One of the simpliest methods is to use a [naive random over-sampling](http://contrib.scikit-learn.org/imbalanced-learn/stable/over_sampling.html#random-over-sampler) technique."
   ]
  },
  {
   "cell_type": "code",
   "execution_count": 15,
   "metadata": {},
   "outputs": [],
   "source": [
    "from imblearn.over_sampling import RandomOverSampler\n",
    "ros = RandomOverSampler()\n",
    "X_ros, y_ros = ros.fit_sample(X_train, y_train)"
   ]
  },
  {
   "cell_type": "markdown",
   "metadata": {},
   "source": [
    "We now have an equal number of observations in each class."
   ]
  },
  {
   "cell_type": "code",
   "execution_count": 16,
   "metadata": {},
   "outputs": [
    {
     "data": {
      "text/plain": [
       "(array([False,  True]), array([26973, 26973]))"
      ]
     },
     "execution_count": 16,
     "metadata": {},
     "output_type": "execute_result"
    }
   ],
   "source": [
    "np.unique(y_ros, return_counts=True)"
   ]
  },
  {
   "cell_type": "markdown",
   "metadata": {},
   "source": [
    "Let's visualize the results using PCA technique described above."
   ]
  },
  {
   "cell_type": "code",
   "execution_count": 17,
   "metadata": {},
   "outputs": [
    {
     "data": {
      "image/png": "[encoded data removed]",
      "text/plain": [
       "<Figure size 720x432 with 2 Axes>"
      ]
     },
     "metadata": {},
     "output_type": "display_data"
    }
   ],
   "source": [
    "# PCA\n",
    "X_ros_vis = pca.fit_transform(X_ros)\n",
    "\n",
    "f, (ax1, ax2) = plt.subplots(1, 2)\n",
    "cs = splot(ax1, X_vis, y, \"Original\", samples=1000)\n",
    "splot(ax2, X_ros_vis, y_ros, \"Random Over Sample\", samples=1000)\n",
    "\n",
    "plt.figlegend(cs, ('Weapon', 'Clean'), loc='lower center',\n",
    "              ncol=2, labelspacing=0.)\n",
    "plt.tight_layout(pad=3)"
   ]
  },
  {
   "cell_type": "markdown",
   "metadata": {},
   "source": [
    "Note: we shouldn't expect the same shape in both plots as we applied PCA to different matrices."
   ]
  },
  {
   "cell_type": "markdown",
   "metadata": {},
   "source": [
    "Now your turn. Repeat this example with re-sampling strategy. Be sure to plot the results, following the example above."
   ]
  },
  {
   "cell_type": "markdown",
   "metadata": {},
   "source": [
    "### SMOTE\n",
    "\n",
    "[SMOTE](https://link.springer.com/content/pdf/10.1007%2F978-3-540-39804-2_12.pdf) is a technique for synthezing minority class obersvations. The algorithms uses [k-nearest neighbors](https://en.wikipedia.org/wiki/K-nearest_neighbors_algorithm) to new observations in the neighborhood of mintority class observations."
   ]
  },
  {
   "cell_type": "code",
   "execution_count": 18,
   "metadata": {},
   "outputs": [
    {
     "data": {
      "image/png": "[encoded data removed]",
      "text/plain": [
       "<Figure size 720x432 with 2 Axes>"
      ]
     },
     "metadata": {},
     "output_type": "display_data"
    }
   ],
   "source": [
    "from imblearn.over_sampling import SMOTE\n",
    "smote = SMOTE()\n",
    "X_smote, y_smote = smote.fit_sample(X_train, y_train)\n",
    "\n",
    "X_smote_vis = pca.fit_transform(X_smote)\n",
    "\n",
    "f, (ax1, ax2) = plt.subplots(1, 2)\n",
    "cs = splot(ax1, X_vis, y, \"Original\", samples=1000)\n",
    "splot(ax2, X_smote_vis, y_smote, \"SMOTE\", samples=1000)\n",
    "\n",
    "plt.figlegend(cs, ('Weapon', 'Clean'), loc='lower center',\n",
    "              ncol=2, labelspacing=0.)\n",
    "plt.tight_layout(pad=3)"
   ]
  },
  {
   "cell_type": "markdown",
   "metadata": {},
   "source": [
    "### ADASYN\n",
    "\n",
    "[Adaptive Synthetic Sampling Approach (ADASYN)](http://www.ele.uri.edu/faculty/he/PDFfiles/adasyn.pdf), like SMOTE, ADASYN sythesizes minority class observations. The major difference is that ADASYN synthesizes difficult to learn observations. That is, minority class observations near observations in the majority class.\n",
    "\n",
    "Use the [ADASYN](http://contrib.scikit-learn.org/imbalanced-learn/stable/generated/imblearn.over_sampling.ADASYN.html) class in imbalanced-learn to re-sample the data."
   ]
  },
  {
   "cell_type": "code",
   "execution_count": 34,
   "metadata": {},
   "outputs": [
    {
     "data": {
      "image/png": "[encoded data removed]",
      "text/plain": [
       "<Figure size 720x432 with 2 Axes>"
      ]
     },
     "metadata": {},
     "output_type": "display_data"
    }
   ],
   "source": [
    "from imblearn.over_sampling import ADASYN\n",
    "adasyn = ADASYN()\n",
    "X_adasyn, y_adasyn = adasyn.fit_sample(X_train, y_train)\n",
    "\n",
    "X_adasyn_vis = pca.fit_transform(X_adasyn)\n",
    "\n",
    "f, (ax1, ax2) = plt.subplots(1, 2)\n",
    "cs = splot(ax1, X_vis, y, \"Original\", samples=1000)\n",
    "splot(ax2, X_adasyn_vis, y_adasyn, \"ADASYN\", samples=1000)\n",
    "\n",
    "plt.figlegend(cs, ('Weapon', 'Clean'), loc='lower center',\n",
    "              ncol=2, labelspacing=0.)\n",
    "plt.tight_layout(pad=3)"
   ]
  },
  {
   "cell_type": "markdown",
   "metadata": {},
   "source": [
    "### Reflect\n",
    "\n",
    "Before moving forward, reflect on the results:\n",
    "\n",
    "1. What are the strengths and weaknesses of each approach?\n",
    "\n",
    "2. Which method will you use?\n",
    "\n",
    "3. List at least two reasons for being optimistic about estimating a model with these data.\n",
    "\n",
    "4. List at least two reasons for being pesimistic.\n",
    "\n",
    "Now, set `X_resampled` and `y_resampled` to the matrices that you want to use."
   ]
  },
  {
   "cell_type": "code",
   "execution_count": 20,
   "metadata": {},
   "outputs": [],
   "source": [
    "X_resampled, y_resampled = X_adasyn, y_adasyn"
   ]
  },
  {
   "cell_type": "markdown",
   "metadata": {},
   "source": [
    "## Train classifiers\n",
    "\n",
    "Our goal is a classification model that takes a user query and returns the probablity that the query refers to a weapon. We will use a [logistic regression](https://en.wikipedia.org/wiki/Logistic_regression) as a benchmark. Logistic models two important properties for our application. Logistic models:\n",
    "\n",
    "- Treat the dependent variable (the query is about weapons) is a linear combination of all the features.\n",
    "- Require less computation than other common classification algorithms.\n",
    "\n",
    "These properties make logistic classifiers a suitable as a good benchmark when doing classification modeling. Scikit-learn defines a [`LogisticRegression`](http://scikit-learn.org/stable/modules/linear_model.html#logistic-regression) for this model."
   ]
  },
  {
   "cell_type": "code",
   "execution_count": 21,
   "metadata": {},
   "outputs": [
    {
     "name": "stdout",
     "output_type": "stream",
     "text": [
      "CPU times: user 4.72 s, sys: 88 ms, total: 4.81 s\n",
      "Wall time: 4.81 s\n",
      "             precision    recall  f1-score   support\n",
      "\n",
      "      False       0.99      0.94      0.97     26973\n",
      "       True       0.58      0.94      0.72      2369\n",
      "\n",
      "avg / total       0.96      0.94      0.95     29342\n",
      "\n"
     ]
    }
   ],
   "source": [
    "from sklearn.linear_model import LogisticRegression\n",
    "\n",
    "logit = LogisticRegression()\n",
    "%time logit.fit(X_resampled, y_resampled)\n",
    "predicted_insample = logit.predict(X_train)\n",
    "print(sk.metrics.classification_report(y_train, predicted_insample))"
   ]
  },
  {
   "cell_type": "markdown",
   "metadata": {},
   "source": [
    "We commonly measure the [precision and recall](https://en.wikipedia.org/wiki/Precision_and_recall) of a classifier to  assess performance.\n",
    "\n",
    "Let's use:\n",
    "\n",
    "- **T** for predictions that match observed data \n",
    "- **F** for predictions that do *not* match observed data\n",
    "- **P** for positive predictions (weapons)\n",
    "- **N** for negative predictions (no weapons)\n",
    "\n",
    "Precision is $\\frac{TP}{TP + FP}$.\n",
    "\n",
    "Recall is $\\frac{TP}{TP + FN}$."
   ]
  },
  {
   "cell_type": "code",
   "execution_count": 22,
   "metadata": {},
   "outputs": [
    {
     "name": "stdout",
     "output_type": "stream",
     "text": [
      "CPU times: user 40 ms, sys: 104 ms, total: 144 ms\n",
      "Wall time: 57.5 ms\n",
      "             precision    recall  f1-score   support\n",
      "\n",
      "      False       0.99      0.94      0.96     26953\n",
      "       True       0.56      0.92      0.70      2390\n",
      "\n",
      "avg / total       0.96      0.93      0.94     29343\n",
      "\n"
     ]
    }
   ],
   "source": [
    "%time predicted = logit.predict(X_test)\n",
    "print(sk.metrics.classification_report(y_test, predicted))"
   ]
  },
  {
   "cell_type": "markdown",
   "metadata": {},
   "source": [
    "Now your turn. Try fitting the data to each of the following models."
   ]
  },
  {
   "cell_type": "markdown",
   "metadata": {},
   "source": [
    "### Decision Tree\n",
    "\n",
    "[Decision tree](https://en.wikipedia.org/wiki/Decision_tree) models that takes it name and form from [tree](https://en.wikipedia.org/wiki/Tree_%28data_structure%29). Each of the interior nodes represent a model feature. The exterior nodes represent the classification. This illustration, from Wikipdia, shows a descision tree trained on the Titantic survial data.\n",
    "\n",
    "![decision tree illustration from wikipedia](https://upload.wikimedia.org/wikipedia/commons/f/f3/CART_tree_titanic_survivors.png)\n",
    "\n",
    "Use the [`DecisionTreeClassifier`](http://scikit-learn.org/stable/modules/tree.html#classification) class in Scikit-learn to train the decision tree model."
   ]
  },
  {
   "cell_type": "code",
   "execution_count": 23,
   "metadata": {},
   "outputs": [
    {
     "name": "stdout",
     "output_type": "stream",
     "text": [
      "CPU times: user 45.5 s, sys: 44 ms, total: 45.6 s\n",
      "Wall time: 45.5 s\n",
      "             precision    recall  f1-score   support\n",
      "\n",
      "      False       1.00      1.00      1.00     26973\n",
      "       True       1.00      0.99      0.99      2369\n",
      "\n",
      "avg / total       1.00      1.00      1.00     29342\n",
      "\n"
     ]
    }
   ],
   "source": [
    "from sklearn import tree\n",
    "t = tree.DecisionTreeClassifier()\n",
    "%time t.fit(X_resampled, y_resampled)\n",
    "predicted_insample = t.predict(X_train)\n",
    "print(sk.metrics.classification_report(y_train, predicted_insample))"
   ]
  },
  {
   "cell_type": "code",
   "execution_count": 24,
   "metadata": {},
   "outputs": [
    {
     "name": "stdout",
     "output_type": "stream",
     "text": [
      "CPU times: user 8 ms, sys: 4 ms, total: 12 ms\n",
      "Wall time: 12.7 ms\n",
      "             precision    recall  f1-score   support\n",
      "\n",
      "      False       0.97      0.92      0.95     26953\n",
      "       True       0.44      0.67      0.53      2390\n",
      "\n",
      "avg / total       0.93      0.90      0.91     29343\n",
      "\n"
     ]
    }
   ],
   "source": [
    "%time predicted = t.predict(X_test)\n",
    "print(sk.metrics.classification_report(y_test, predicted))"
   ]
  },
  {
   "cell_type": "markdown",
   "metadata": {},
   "source": [
    "### Random Forest\n",
    "\n",
    "The [random forest model](https://en.wikipedia.org/wiki/Random_forest) is an *ensemble* model. Ensemble models are composed of two or more models. Random forests are composed of mutliple decision trees. Random forests have the advantage of avoiding some of the [overfitting](https://en.wikipedia.org/wiki/Overfitting) issues that are common in decision tree models.\n",
    "\n",
    "Use the [`RandomForestClassifier`](http://scikit-learn.org/stable/modules/generated/sklearn.ensemble.RandomForestClassifier.html) class in Scikit-learn to train the random forest model."
   ]
  },
  {
   "cell_type": "code",
   "execution_count": 25,
   "metadata": {},
   "outputs": [
    {
     "name": "stdout",
     "output_type": "stream",
     "text": [
      "CPU times: user 11.5 s, sys: 0 ns, total: 11.5 s\n",
      "Wall time: 11.5 s\n",
      "             precision    recall  f1-score   support\n",
      "\n",
      "      False       1.00      1.00      1.00     26973\n",
      "       True       1.00      0.99      0.99      2369\n",
      "\n",
      "avg / total       1.00      1.00      1.00     29342\n",
      "\n"
     ]
    }
   ],
   "source": [
    "from sklearn.ensemble import RandomForestClassifier\n",
    "rfc = RandomForestClassifier()\n",
    "%time rfc.fit(X_resampled, y_resampled)\n",
    "predicted_insample = rfc.predict(X_train)\n",
    "print(sk.metrics.classification_report(y_train, predicted_insample))"
   ]
  },
  {
   "cell_type": "markdown",
   "metadata": {},
   "source": [
    "## Apply the model\n",
    "\n",
    "Let's see well your favorite model on a set *loaded* keywords.\n",
    "\n",
    "Reset the variable `model` to point to your preferred model"
   ]
  },
  {
   "cell_type": "code",
   "execution_count": 26,
   "metadata": {},
   "outputs": [],
   "source": [
    "model = t"
   ]
  },
  {
   "cell_type": "markdown",
   "metadata": {},
   "source": [
    "Let's load a file of suspect text."
   ]
  },
  {
   "cell_type": "code",
   "execution_count": 27,
   "metadata": {},
   "outputs": [
    {
     "data": {
      "text/plain": [
       "['sex pistols',\n",
       " \"janie's got a gun\",\n",
       " 'my little pony',\n",
       " 'Sheriff Woody',\n",
       " 'stick-em up',\n",
       " 'water pistol',\n",
       " 'magnum ice cream',\n",
       " 'Agram 2000',\n",
       " 'American-180',\n",
       " '.22 Short Magnum',\n",
       " 'AR-57',\n",
       " 'Armaguerra OG-43',\n",
       " 'Arsenal submachine gun',\n",
       " 'ASALT 96',\n",
       " 'Austen submachine gun',\n",
       " 'W. T. Carmichael',\n",
       " 'Bechowiec-1',\n",
       " 'Beretta 93R',\n",
       " 'Beretta PMX[1]',\n",
       " 'Beretta Mx4 Storm']"
      ]
     },
     "execution_count": 27,
     "metadata": {},
     "output_type": "execute_result"
    }
   ],
   "source": [
    "with open(\"test-words.txt\") as f:\n",
    "    suspect = [x.strip() for x in f] # .strip() removes the new line character\n",
    "    \n",
    "suspect[:20]"
   ]
  },
  {
   "cell_type": "markdown",
   "metadata": {},
   "source": [
    "### Create the word vectors"
   ]
  },
  {
   "cell_type": "code",
   "execution_count": 28,
   "metadata": {},
   "outputs": [
    {
     "data": {
      "text/plain": [
       "array([[-0.241595  , -0.062707  , -0.34531   , -0.0474    ],\n",
       "       [ 0.044776  ,  0.24636781, -0.01670596,  0.132314  ],\n",
       "       [-0.23827334,  0.16899668, -0.32244667,  0.13737667],\n",
       "       [-0.29907   ,  0.325125  , -0.325612  , -0.35764   ],\n",
       "       [-0.03612525, -0.05963249, -0.35501748,  0.070346  ],\n",
       "       [-0.0245855 ,  0.020595  ,  0.08190501, -0.31641   ],\n",
       "       [ 0.16107334, -0.16840632,  0.21563633, -0.38236666],\n",
       "       [-0.030968  ,  0.016915  ,  0.082975  , -0.183975  ],\n",
       "       [ 0.        ,  0.        ,  0.        ,  0.        ],\n",
       "       [ 0.14922565,  0.10136033, -0.2683867 , -0.23296332]],\n",
       "      dtype=float32)"
      ]
     },
     "execution_count": 28,
     "metadata": {},
     "output_type": "execute_result"
    }
   ],
   "source": [
    "vectorized = np.vstack(x.vector for x in nlp.pipe(suspect))\n",
    "vectorized[:10, :4]"
   ]
  },
  {
   "cell_type": "markdown",
   "metadata": {},
   "source": [
    "Apply the model to the word vector matrix."
   ]
  },
  {
   "cell_type": "code",
   "execution_count": 29,
   "metadata": {},
   "outputs": [
    {
     "name": "stdout",
     "output_type": "stream",
     "text": [
      "CPU times: user 0 ns, sys: 4 ms, total: 4 ms\n",
      "Wall time: 337 µs\n"
     ]
    }
   ],
   "source": [
    "%time probs = model.predict_proba(vectorized)"
   ]
  },
  {
   "cell_type": "code",
   "execution_count": 30,
   "metadata": {},
   "outputs": [
    {
     "data": {
      "text/html": [
       "<div>\n",
       "<style scoped>\n",
       "    .dataframe tbody tr th:only-of-type {\n",
       "        vertical-align: middle;\n",
       "    }\n",
       "\n",
       "    .dataframe tbody tr th {\n",
       "        vertical-align: top;\n",
       "    }\n",
       "\n",
       "    .dataframe thead th {\n",
       "        text-align: right;\n",
       "    }\n",
       "</style>\n",
       "<table border=\"1\" class=\"dataframe\">\n",
       "  <thead>\n",
       "    <tr style=\"text-align: right;\">\n",
       "      <th></th>\n",
       "      <th>query</th>\n",
       "      <th>prediction</th>\n",
       "    </tr>\n",
       "  </thead>\n",
       "  <tbody>\n",
       "    <tr>\n",
       "      <th>0</th>\n",
       "      <td>sex pistols</td>\n",
       "      <td>0.000000</td>\n",
       "    </tr>\n",
       "    <tr>\n",
       "      <th>1</th>\n",
       "      <td>janie's got a gun</td>\n",
       "      <td>1.000000</td>\n",
       "    </tr>\n",
       "    <tr>\n",
       "      <th>2</th>\n",
       "      <td>my little pony</td>\n",
       "      <td>0.000000</td>\n",
       "    </tr>\n",
       "    <tr>\n",
       "      <th>3</th>\n",
       "      <td>Sheriff Woody</td>\n",
       "      <td>0.000000</td>\n",
       "    </tr>\n",
       "    <tr>\n",
       "      <th>4</th>\n",
       "      <td>stick-em up</td>\n",
       "      <td>0.000000</td>\n",
       "    </tr>\n",
       "    <tr>\n",
       "      <th>5</th>\n",
       "      <td>water pistol</td>\n",
       "      <td>1.000000</td>\n",
       "    </tr>\n",
       "    <tr>\n",
       "      <th>6</th>\n",
       "      <td>magnum ice cream</td>\n",
       "      <td>0.000000</td>\n",
       "    </tr>\n",
       "    <tr>\n",
       "      <th>7</th>\n",
       "      <td>Agram 2000</td>\n",
       "      <td>0.000000</td>\n",
       "    </tr>\n",
       "    <tr>\n",
       "      <th>8</th>\n",
       "      <td>American-180</td>\n",
       "      <td>0.259551</td>\n",
       "    </tr>\n",
       "    <tr>\n",
       "      <th>9</th>\n",
       "      <td>.22 Short Magnum</td>\n",
       "      <td>1.000000</td>\n",
       "    </tr>\n",
       "    <tr>\n",
       "      <th>10</th>\n",
       "      <td>AR-57</td>\n",
       "      <td>0.259551</td>\n",
       "    </tr>\n",
       "    <tr>\n",
       "      <th>11</th>\n",
       "      <td>Armaguerra OG-43</td>\n",
       "      <td>0.259551</td>\n",
       "    </tr>\n",
       "    <tr>\n",
       "      <th>12</th>\n",
       "      <td>Arsenal submachine gun</td>\n",
       "      <td>1.000000</td>\n",
       "    </tr>\n",
       "    <tr>\n",
       "      <th>13</th>\n",
       "      <td>ASALT 96</td>\n",
       "      <td>0.000000</td>\n",
       "    </tr>\n",
       "    <tr>\n",
       "      <th>14</th>\n",
       "      <td>Austen submachine gun</td>\n",
       "      <td>1.000000</td>\n",
       "    </tr>\n",
       "    <tr>\n",
       "      <th>15</th>\n",
       "      <td>W. T. Carmichael</td>\n",
       "      <td>0.000000</td>\n",
       "    </tr>\n",
       "    <tr>\n",
       "      <th>16</th>\n",
       "      <td>Bechowiec-1</td>\n",
       "      <td>0.259551</td>\n",
       "    </tr>\n",
       "    <tr>\n",
       "      <th>17</th>\n",
       "      <td>Beretta 93R</td>\n",
       "      <td>1.000000</td>\n",
       "    </tr>\n",
       "    <tr>\n",
       "      <th>18</th>\n",
       "      <td>Beretta PMX[1]</td>\n",
       "      <td>1.000000</td>\n",
       "    </tr>\n",
       "    <tr>\n",
       "      <th>19</th>\n",
       "      <td>Beretta Mx4 Storm</td>\n",
       "      <td>0.000000</td>\n",
       "    </tr>\n",
       "    <tr>\n",
       "      <th>20</th>\n",
       "      <td>.45 ACP</td>\n",
       "      <td>0.000000</td>\n",
       "    </tr>\n",
       "    <tr>\n",
       "      <th>21</th>\n",
       "      <td>Beretta M3</td>\n",
       "      <td>0.000000</td>\n",
       "    </tr>\n",
       "    <tr>\n",
       "      <th>22</th>\n",
       "      <td>Beretta M12</td>\n",
       "      <td>0.000000</td>\n",
       "    </tr>\n",
       "    <tr>\n",
       "      <th>23</th>\n",
       "      <td>Beretta M1918</td>\n",
       "      <td>1.000000</td>\n",
       "    </tr>\n",
       "    <tr>\n",
       "      <th>24</th>\n",
       "      <td>.22 Long Rifle</td>\n",
       "      <td>1.000000</td>\n",
       "    </tr>\n",
       "    <tr>\n",
       "      <th>25</th>\n",
       "      <td>Beretta Model 38</td>\n",
       "      <td>1.000000</td>\n",
       "    </tr>\n",
       "    <tr>\n",
       "      <th>26</th>\n",
       "      <td>Borz</td>\n",
       "      <td>0.259551</td>\n",
       "    </tr>\n",
       "    <tr>\n",
       "      <th>27</th>\n",
       "      <td>BSA experimental model 1949</td>\n",
       "      <td>0.000000</td>\n",
       "    </tr>\n",
       "    <tr>\n",
       "      <th>28</th>\n",
       "      <td>BSA Welgun</td>\n",
       "      <td>1.000000</td>\n",
       "    </tr>\n",
       "    <tr>\n",
       "      <th>29</th>\n",
       "      <td>Calico M960</td>\n",
       "      <td>0.000000</td>\n",
       "    </tr>\n",
       "    <tr>\n",
       "      <th>...</th>\n",
       "      <td>...</td>\n",
       "      <td>...</td>\n",
       "    </tr>\n",
       "    <tr>\n",
       "      <th>170</th>\n",
       "      <td>BSA and others</td>\n",
       "      <td>0.000000</td>\n",
       "    </tr>\n",
       "    <tr>\n",
       "      <th>171</th>\n",
       "      <td>Sterling submachine gun</td>\n",
       "      <td>1.000000</td>\n",
       "    </tr>\n",
       "    <tr>\n",
       "      <th>172</th>\n",
       "      <td>Royal Ordnance Factories</td>\n",
       "      <td>1.000000</td>\n",
       "    </tr>\n",
       "    <tr>\n",
       "      <th>173</th>\n",
       "      <td>Steyr AUG PARA</td>\n",
       "      <td>0.000000</td>\n",
       "    </tr>\n",
       "    <tr>\n",
       "      <th>174</th>\n",
       "      <td>Thales Australia, Lithgow Facility</td>\n",
       "      <td>0.000000</td>\n",
       "    </tr>\n",
       "    <tr>\n",
       "      <th>175</th>\n",
       "      <td>SME Ordnance</td>\n",
       "      <td>0.000000</td>\n",
       "    </tr>\n",
       "    <tr>\n",
       "      <th>176</th>\n",
       "      <td>Suomi KP/-31</td>\n",
       "      <td>0.000000</td>\n",
       "    </tr>\n",
       "    <tr>\n",
       "      <th>177</th>\n",
       "      <td>Thompson submachine gun</td>\n",
       "      <td>1.000000</td>\n",
       "    </tr>\n",
       "    <tr>\n",
       "      <th>178</th>\n",
       "      <td>Tokarev Model 1927</td>\n",
       "      <td>0.000000</td>\n",
       "    </tr>\n",
       "    <tr>\n",
       "      <th>179</th>\n",
       "      <td>Type 64 submachine gun</td>\n",
       "      <td>1.000000</td>\n",
       "    </tr>\n",
       "    <tr>\n",
       "      <th>180</th>\n",
       "      <td>Type 77 submachine gun</td>\n",
       "      <td>1.000000</td>\n",
       "    </tr>\n",
       "    <tr>\n",
       "      <th>181</th>\n",
       "      <td>Type 79 submachine gun</td>\n",
       "      <td>1.000000</td>\n",
       "    </tr>\n",
       "    <tr>\n",
       "      <th>182</th>\n",
       "      <td>Type 80 (pistol)</td>\n",
       "      <td>0.000000</td>\n",
       "    </tr>\n",
       "    <tr>\n",
       "      <th>183</th>\n",
       "      <td>Type 85 submachine gun</td>\n",
       "      <td>1.000000</td>\n",
       "    </tr>\n",
       "    <tr>\n",
       "      <th>184</th>\n",
       "      <td>Type 100 submachine gun</td>\n",
       "      <td>1.000000</td>\n",
       "    </tr>\n",
       "    <tr>\n",
       "      <th>185</th>\n",
       "      <td>TZ-45</td>\n",
       "      <td>0.259551</td>\n",
       "    </tr>\n",
       "    <tr>\n",
       "      <th>186</th>\n",
       "      <td>United Defense M42</td>\n",
       "      <td>0.000000</td>\n",
       "    </tr>\n",
       "    <tr>\n",
       "      <th>187</th>\n",
       "      <td>.45 ACP</td>\n",
       "      <td>0.000000</td>\n",
       "    </tr>\n",
       "    <tr>\n",
       "      <th>188</th>\n",
       "      <td>Uzi</td>\n",
       "      <td>1.000000</td>\n",
       "    </tr>\n",
       "    <tr>\n",
       "      <th>189</th>\n",
       "      <td>Group Industries</td>\n",
       "      <td>0.000000</td>\n",
       "    </tr>\n",
       "    <tr>\n",
       "      <th>190</th>\n",
       "      <td>Vigneron submachine gun</td>\n",
       "      <td>1.000000</td>\n",
       "    </tr>\n",
       "    <tr>\n",
       "      <th>191</th>\n",
       "      <td>Villar-Perosa aircraft submachine gun</td>\n",
       "      <td>1.000000</td>\n",
       "    </tr>\n",
       "    <tr>\n",
       "      <th>192</th>\n",
       "      <td>Vityaz-SN</td>\n",
       "      <td>0.000000</td>\n",
       "    </tr>\n",
       "    <tr>\n",
       "      <th>193</th>\n",
       "      <td>Walther MP</td>\n",
       "      <td>0.000000</td>\n",
       "    </tr>\n",
       "    <tr>\n",
       "      <th>194</th>\n",
       "      <td>.380 ACP</td>\n",
       "      <td>1.000000</td>\n",
       "    </tr>\n",
       "    <tr>\n",
       "      <th>195</th>\n",
       "      <td>WG66</td>\n",
       "      <td>0.259551</td>\n",
       "    </tr>\n",
       "    <tr>\n",
       "      <th>196</th>\n",
       "      <td>Z84</td>\n",
       "      <td>0.259551</td>\n",
       "    </tr>\n",
       "    <tr>\n",
       "      <th>197</th>\n",
       "      <td>Zagi M-91</td>\n",
       "      <td>0.259551</td>\n",
       "    </tr>\n",
       "    <tr>\n",
       "      <th>198</th>\n",
       "      <td>ZB-47</td>\n",
       "      <td>0.259551</td>\n",
       "    </tr>\n",
       "    <tr>\n",
       "      <th>199</th>\n",
       "      <td>ZK-383</td>\n",
       "      <td>0.259551</td>\n",
       "    </tr>\n",
       "  </tbody>\n",
       "</table>\n",
       "<p>200 rows × 2 columns</p>\n",
       "</div>"
      ],
      "text/plain": [
       "                                     query  prediction\n",
       "0                              sex pistols    0.000000\n",
       "1                        janie's got a gun    1.000000\n",
       "2                           my little pony    0.000000\n",
       "3                            Sheriff Woody    0.000000\n",
       "4                              stick-em up    0.000000\n",
       "5                             water pistol    1.000000\n",
       "6                         magnum ice cream    0.000000\n",
       "7                               Agram 2000    0.000000\n",
       "8                             American-180    0.259551\n",
       "9                         .22 Short Magnum    1.000000\n",
       "10                                   AR-57    0.259551\n",
       "11                        Armaguerra OG-43    0.259551\n",
       "12                  Arsenal submachine gun    1.000000\n",
       "13                                ASALT 96    0.000000\n",
       "14                   Austen submachine gun    1.000000\n",
       "15                        W. T. Carmichael    0.000000\n",
       "16                             Bechowiec-1    0.259551\n",
       "17                             Beretta 93R    1.000000\n",
       "18                          Beretta PMX[1]    1.000000\n",
       "19                       Beretta Mx4 Storm    0.000000\n",
       "20                                 .45 ACP    0.000000\n",
       "21                              Beretta M3    0.000000\n",
       "22                             Beretta M12    0.000000\n",
       "23                           Beretta M1918    1.000000\n",
       "24                          .22 Long Rifle    1.000000\n",
       "25                        Beretta Model 38    1.000000\n",
       "26                                    Borz    0.259551\n",
       "27             BSA experimental model 1949    0.000000\n",
       "28                              BSA Welgun    1.000000\n",
       "29                             Calico M960    0.000000\n",
       "..                                     ...         ...\n",
       "170                         BSA and others    0.000000\n",
       "171                Sterling submachine gun    1.000000\n",
       "172               Royal Ordnance Factories    1.000000\n",
       "173                         Steyr AUG PARA    0.000000\n",
       "174     Thales Australia, Lithgow Facility    0.000000\n",
       "175                           SME Ordnance    0.000000\n",
       "176                           Suomi KP/-31    0.000000\n",
       "177                Thompson submachine gun    1.000000\n",
       "178                     Tokarev Model 1927    0.000000\n",
       "179                 Type 64 submachine gun    1.000000\n",
       "180                 Type 77 submachine gun    1.000000\n",
       "181                 Type 79 submachine gun    1.000000\n",
       "182                       Type 80 (pistol)    0.000000\n",
       "183                 Type 85 submachine gun    1.000000\n",
       "184                Type 100 submachine gun    1.000000\n",
       "185                                  TZ-45    0.259551\n",
       "186                     United Defense M42    0.000000\n",
       "187                                .45 ACP    0.000000\n",
       "188                                    Uzi    1.000000\n",
       "189                       Group Industries    0.000000\n",
       "190                Vigneron submachine gun    1.000000\n",
       "191  Villar-Perosa aircraft submachine gun    1.000000\n",
       "192                              Vityaz-SN    0.000000\n",
       "193                             Walther MP    0.000000\n",
       "194                               .380 ACP    1.000000\n",
       "195                                   WG66    0.259551\n",
       "196                                    Z84    0.259551\n",
       "197                              Zagi M-91    0.259551\n",
       "198                                  ZB-47    0.259551\n",
       "199                                 ZK-383    0.259551\n",
       "\n",
       "[200 rows x 2 columns]"
      ]
     },
     "execution_count": 30,
     "metadata": {},
     "output_type": "execute_result"
    }
   ],
   "source": [
    "results_df = pd.DataFrame({\"query\": suspect, \"prediction\": probs[:,1]})\n",
    "results_df"
   ]
  },
  {
   "cell_type": "markdown",
   "metadata": {},
   "source": [
    "## Reflect\n",
    "\n",
    "Answer the following questions about your models:\n",
    "\n",
    "1. As a website owner, would you be comfortable with any of these models? Which model would you select?\n",
    "\n",
    "2. Describe how model you chose works.\n",
    "\n",
    "3. How much time does the model need to process one query?\n",
    "\n",
    "4. What are the strengths and limitations of your chose model compared to the logitic regression model? If you prefer the logistic regression model, what are its strengths and limitations compared to the next best alternative?\n",
    "\n",
    "5. What steps would you take to improve the model?"
   ]
  },
  {
   "cell_type": "markdown",
   "metadata": {},
   "source": [
    "# Review\n",
    "\n",
    "- What textual features did we add?\n",
    "\n",
    "- List three re-sampling techniques for imbalanced classes\n",
    "\n",
    "- What method do we call to train a classification model? What is the input?\n",
    "\n",
    "- What is one advantage of a logitistic model? What is one disadvantage?\n"
   ]
  }
 ],
 "metadata": {
  "kernelspec": {
   "display_name": "Python 3",
   "language": "python",
   "name": "python3"
  },
  "language_info": {
   "codemirror_mode": {
    "name": "ipython",
    "version": 3
   },
   "file_extension": ".py",
   "mimetype": "text/x-python",
   "name": "python",
   "nbconvert_exporter": "python",
   "pygments_lexer": "ipython3",
   "version": "3.6.5"
  }
 },
 "nbformat": 4,
 "nbformat_minor": 2
}
